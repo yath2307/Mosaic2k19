{
 "cells": [
  {
   "cell_type": "code",
   "execution_count": 15,
   "metadata": {},
   "outputs": [
    {
     "name": "stdout",
     "output_type": "stream",
     "text": [
      "[1]\n",
      "[8]\n",
      "[13]\n",
      "[1]\n",
      "[2]\n"
     ]
    }
   ],
   "source": [
    "import cv2\n",
    "import numpy as np\n",
    "t=[[]]\n",
    "blurValue=7\n",
    "threshold=10\n",
    "count=0\n",
    "x=1000\n",
    "y=1000\n",
    "x1=[]\n",
    "x2=[]\n",
    "y1=[]\n",
    "y2=[]\n",
    "im=[]\n",
    "l=[]\n",
    "prediction=[]\n",
    "import pickle\n",
    "clf = pickle.load(open('model1.sav', 'rb'))\n",
    "camera = cv2.VideoCapture(1)\n",
    "while True:\n",
    "    ret, image = camera.read()\n",
    "    cv2.imshow('original', image)\n",
    "    k = cv2.waitKey(1)\n",
    "    if k == ord('c'):\n",
    "        camera.release()\n",
    "        cv2.destroyAllWindows()\n",
    "        #Read image\n",
    "        #Create a dummy image that stores different contrast and brightness\n",
    "        #new_image = np.zeros(image.shape, image.dtype)\n",
    "        #Brightness and contrast parameters\n",
    "        #contrast = 3.0\n",
    "        #bright = 0\n",
    "        #Change the contrast and brightness\n",
    "#         for y2 in range(image.shape[0]):\n",
    "#             for x2 in range(image.shape[1]):\n",
    "#                 for c2 in range(image.shape[2]):\n",
    "#                     new_image[y2,x2,c2] = np.clip(contrast*image[y2,x2,c2] + bright, 0, 255)\n",
    "#         #image = cv2.resize(image, (28,28), interpolation = cv2.INTER_AREA)\n",
    "        gray = cv2.cvtColor(image, cv2.COLOR_BGR2GRAY)\n",
    "        blur = cv2.GaussianBlur(gray, (blurValue, blurValue), 0)\n",
    "        #ret, thresh = cv2.threshold(blur, threshold, 255, cv2.THRESH_BINARY_INV)\n",
    "        thresh = cv2.adaptiveThreshold(blur, 255, cv2.ADAPTIVE_THRESH_MEAN_C, cv2.THRESH_BINARY_INV, blockSize=25, C=10)\n",
    "        #ret2,thresh = cv2.threshold(blur,0,255,cv2.THRESH_BINARY_INV+cv2.THRESH_OTSU)\n",
    "        im2, contours, hierarchy = cv2.findContours(thresh, cv2.RETR_TREE, cv2.CHAIN_APPROX_SIMPLE)\n",
    "        for cnt in contours:\n",
    "            l.append(cv2.contourArea(cnt))\n",
    "        l.sort(reverse=True)\n",
    "        for cnt in contours:\n",
    "            if cv2.contourArea(cnt)<(l[0]/20):\n",
    "                q,y,w,h = cv2.boundingRect(cnt)\n",
    "                for i in range(y,y+h):\n",
    "                    for j in range(q,q+w):\n",
    "                        thresh[i][j]=0\n",
    "        for i in range(thresh.shape[1]):\n",
    "            old=count\n",
    "            for j in range(thresh.shape[0]):\n",
    "                if thresh[j][i]==255:\n",
    "                    count+=1\n",
    "            if count>old:\n",
    "                x=min(x,i)\n",
    "            if count>0 and old==count:\n",
    "                x2.append(i)\n",
    "                x1.append(x)\n",
    "                x=1000\n",
    "                count=0\n",
    "        if old!=count:\n",
    "            x2.append(thresh.shape[1])\n",
    "            x1.append(x)\n",
    "        count=0\n",
    "        for z in range(len(x1)):\n",
    "            for i in range(thresh.shape[0]):\n",
    "                old=count\n",
    "                for j in range(x1[z],x2[z]):\n",
    "                    if thresh[i][j]==255:\n",
    "                        count+=1\n",
    "                if count>old:\n",
    "                    y=min(y,i)\n",
    "                if count>0 and old==count:\n",
    "                    y2.append(i)\n",
    "                    y1.append(y)\n",
    "                    y=1000\n",
    "                    count=0\n",
    "            if old!=count:\n",
    "                y2.append(thresh.shape[0])\n",
    "                y1.append(y)\n",
    "        for i in range(len(x1)):\n",
    "            imcrop = thresh[y1[i]:y2[i], x1[i]:x2[i]]\n",
    "            a=28-y2[i]+y1[i]\n",
    "            b=28-x2[i]+x1[i]\n",
    "            a=max(max(a,0),(x2[i]-x1[i])-(y2[i]-y1[i]))\n",
    "            b=max(max(b,0),(y2[i]-y1[i])-(x2[i]-x1[i]))\n",
    "            constan = cv2.copyMakeBorder(imcrop,int(a/2),a-int(a/2),int(b/2),b-int(b/2),cv2.BORDER_CONSTANT)\n",
    "            imag = cv2.resize(constan, (28,28), interpolation = cv2.INTER_AREA)\n",
    "            ret, thr = cv2.threshold(imag, threshold, 255, cv2.THRESH_BINARY)\n",
    "            #thr = cv2.adaptiveThreshold(imag, 255, cv2.ADAPTIVE_THRESH_MEAN_C, cv2.THRESH_BINARY, blockSize=5, C=5)\n",
    "            kernel = np.ones((2,2), np.uint8)\n",
    "            thr = cv2.dilate(thr, kernel, iterations=1)\n",
    "            for l in range(28):\n",
    "                for j in range(28):\n",
    "                    t[0].append(int(thr[l][j]/255))\n",
    "            predicted = clf.predict(t)\n",
    "            prediction.append(predicted[0])\n",
    "            print(predicted)\n",
    "            t=[[]]\n",
    "        break\n",
    "    elif k == 27:  # press ESC to exit\n",
    "        break\n",
    "cv2.destroyAllWindows()"
   ]
  },
  {
   "cell_type": "code",
   "execution_count": 11,
   "metadata": {},
   "outputs": [
    {
     "name": "stdout",
     "output_type": "stream",
     "text": [
      "6\n"
     ]
    }
   ],
   "source": [
    "j=[]\n",
    "d=[]\n",
    "i=0\n",
    "s=''\n",
    "while i < len(prediction):\n",
    "    c=0\n",
    "    while i<len(prediction) and prediction[i]<=9:\n",
    "        c=c*10+prediction[i]\n",
    "        i+=1\n",
    "    d.append(c)\n",
    "    s+=str(c)\n",
    "    if i<len(prediction):\n",
    "        j.append(prediction[i])\n",
    "        if prediction[i]==10:\n",
    "            s+=' / '\n",
    "        if prediction[i]==11:\n",
    "            s+=' * '\n",
    "        if prediction[i]==12:\n",
    "            s+=' + '\n",
    "        if prediction[i]==13:\n",
    "            s+=' - '\n",
    "    i+=1\n",
    "\n",
    "ans = d[0]\n",
    "for i in range(0,len(j)):\n",
    "    if j[i]==10:\n",
    "        ans = ans/d[i+1]\n",
    "    if j[i]==11:\n",
    "        ans = ans*d[i+1]\n",
    "    if j[i]==12:\n",
    "        ans = ans+d[i+1]\n",
    "    if j[i]==13:\n",
    "        ans = ans-d[i+1]\n",
    "print(ans)\n",
    "s+=' = '+str(ans)    \n",
    "    \n",
    "font = cv2.FONT_HERSHEY_SIMPLEX\n",
    "cv2.putText(image,s,(30,450), font, 2,(255,255,255),2,cv2.LINE_AA)\n",
    "\n",
    "cv2.imshow('original', image)\n",
    "cv2.waitKey(0)\n",
    "cv2.destroyAllWindows()"
   ]
  },
  {
   "cell_type": "code",
   "execution_count": 4,
   "metadata": {},
   "outputs": [
    {
     "name": "stdout",
     "output_type": "stream",
     "text": [
      "[118] [274] [73] [354]\n"
     ]
    }
   ],
   "source": [
    "print(x1,x2,y1,y2)"
   ]
  },
  {
   "cell_type": "code",
   "execution_count": 85,
   "metadata": {},
   "outputs": [],
   "source": [
    "imcrop=thresh[y1[0]:y2[0], x1[0]:x2[0]]\n",
    "a=28-y2[0]+y1[0]\n",
    "b=28-x2[0]+x1[0]\n",
    "a=max(max(a,0),(x2[0]-x1[0])-(y2[0]-y1[0]))\n",
    "b=max(max(b,0),(y2[0]-y1[0])-(x2[0]-x1[0]))\n",
    "constant= cv2.copyMakeBorder(imcrop,int(a/2),a-int(a/2),int(b/2),b-int(b/2),cv2.BORDER_CONSTANT)\n",
    "image = cv2.resize(constant, (28,28), interpolation = cv2.INTER_AREA)\n",
    "ret, thr = cv2.threshold(image, threshold, 255, cv2.THRESH_BINARY)"
   ]
  },
  {
   "cell_type": "code",
   "execution_count": 16,
   "metadata": {},
   "outputs": [],
   "source": [
    "cv2.imshow('original', thresh)\n",
    "cv2.waitKey(0)\n",
    "cv2.destroyAllWindows()"
   ]
  },
  {
   "cell_type": "code",
   "execution_count": 9,
   "metadata": {},
   "outputs": [],
   "source": [
    "j=[]\n",
    "d=[]\n",
    "i=0\n",
    "s=''\n",
    "while i < len(prediction):\n",
    "    c=0\n",
    "    while i<len(prediction) and prediction[i]<=9:\n",
    "        c=c*10+prediction[i]\n",
    "        i+=1\n",
    "    d.append(c)\n",
    "    s+=str(c)\n",
    "    if i<len(prediction):\n",
    "        j.append(prediction[i])\n",
    "        if prediction[i]==10:\n",
    "            s+=' / '\n",
    "        if prediction[i]==11:\n",
    "            s+=' * '\n",
    "        if prediction[i]==12:\n",
    "            s+=' + '\n",
    "        if prediction[i]==13:\n",
    "            s+=' - '\n",
    "    i+=1"
   ]
  },
  {
   "cell_type": "code",
   "execution_count": 42,
   "metadata": {},
   "outputs": [
    {
     "name": "stdout",
     "output_type": "stream",
     "text": [
      "4\n"
     ]
    }
   ],
   "source": [
    "ans = d[0]\n",
    "for i in range(0,len(j)):\n",
    "    if j[i]==10:\n",
    "        ans = ans/d[i+1]\n",
    "    if j[i]==11:\n",
    "        ans = ans*d[i+1]\n",
    "    if j[i]==12:\n",
    "        ans = ans+d[i+1]\n",
    "    if j[i]==13:\n",
    "        ans = ans-d[i+1]\n",
    "print(ans)\n",
    "s+=' = '+str(ans)"
   ]
  },
  {
   "cell_type": "code",
   "execution_count": 21,
   "metadata": {},
   "outputs": [
    {
     "ename": "ValueError",
     "evalue": "shapes (1,3920) and (784,150) not aligned: 3920 (dim 1) != 784 (dim 0)",
     "output_type": "error",
     "traceback": [
      "\u001b[0;31m---------------------------------------------------------------------------\u001b[0m",
      "\u001b[0;31mValueError\u001b[0m                                Traceback (most recent call last)",
      "\u001b[0;32m<ipython-input-21-e7f15b1dbc52>\u001b[0m in \u001b[0;36m<module>\u001b[0;34m\u001b[0m\n\u001b[1;32m      6\u001b[0m         \u001b[0;32mfor\u001b[0m \u001b[0mj\u001b[0m \u001b[0;32min\u001b[0m \u001b[0mrange\u001b[0m\u001b[0;34m(\u001b[0m\u001b[0;36m28\u001b[0m\u001b[0;34m)\u001b[0m\u001b[0;34m:\u001b[0m\u001b[0;34m\u001b[0m\u001b[0m\n\u001b[1;32m      7\u001b[0m             \u001b[0mt\u001b[0m\u001b[0;34m[\u001b[0m\u001b[0mcount\u001b[0m\u001b[0;34m]\u001b[0m\u001b[0;34m.\u001b[0m\u001b[0mappend\u001b[0m\u001b[0;34m(\u001b[0m\u001b[0mint\u001b[0m\u001b[0;34m(\u001b[0m\u001b[0mimage\u001b[0m\u001b[0;34m[\u001b[0m\u001b[0ml\u001b[0m\u001b[0;34m]\u001b[0m\u001b[0;34m[\u001b[0m\u001b[0mj\u001b[0m\u001b[0;34m]\u001b[0m\u001b[0;34m/\u001b[0m\u001b[0;36m255\u001b[0m\u001b[0;34m)\u001b[0m\u001b[0;34m)\u001b[0m\u001b[0;34m\u001b[0m\u001b[0m\n\u001b[0;32m----> 8\u001b[0;31m     \u001b[0mpredicted\u001b[0m \u001b[0;34m=\u001b[0m \u001b[0mclf\u001b[0m\u001b[0;34m.\u001b[0m\u001b[0mpredict\u001b[0m\u001b[0;34m(\u001b[0m\u001b[0mt\u001b[0m\u001b[0;34m)\u001b[0m\u001b[0;34m\u001b[0m\u001b[0m\n\u001b[0m\u001b[1;32m      9\u001b[0m     \u001b[0mprint\u001b[0m\u001b[0;34m(\u001b[0m\u001b[0mpredicted\u001b[0m\u001b[0;34m)\u001b[0m\u001b[0;34m\u001b[0m\u001b[0m\n\u001b[1;32m     10\u001b[0m     \u001b[0mcount\u001b[0m\u001b[0;34m+=\u001b[0m\u001b[0;36m1\u001b[0m\u001b[0;34m\u001b[0m\u001b[0m\n",
      "\u001b[0;32m~/ml/lib/python3.5/site-packages/sklearn/neural_network/multilayer_perceptron.py\u001b[0m in \u001b[0;36mpredict\u001b[0;34m(self, X)\u001b[0m\n\u001b[1;32m    951\u001b[0m         \"\"\"\n\u001b[1;32m    952\u001b[0m         \u001b[0mcheck_is_fitted\u001b[0m\u001b[0;34m(\u001b[0m\u001b[0mself\u001b[0m\u001b[0;34m,\u001b[0m \u001b[0;34m\"coefs_\"\u001b[0m\u001b[0;34m)\u001b[0m\u001b[0;34m\u001b[0m\u001b[0m\n\u001b[0;32m--> 953\u001b[0;31m         \u001b[0my_pred\u001b[0m \u001b[0;34m=\u001b[0m \u001b[0mself\u001b[0m\u001b[0;34m.\u001b[0m\u001b[0m_predict\u001b[0m\u001b[0;34m(\u001b[0m\u001b[0mX\u001b[0m\u001b[0;34m)\u001b[0m\u001b[0;34m\u001b[0m\u001b[0m\n\u001b[0m\u001b[1;32m    954\u001b[0m \u001b[0;34m\u001b[0m\u001b[0m\n\u001b[1;32m    955\u001b[0m         \u001b[0;32mif\u001b[0m \u001b[0mself\u001b[0m\u001b[0;34m.\u001b[0m\u001b[0mn_outputs_\u001b[0m \u001b[0;34m==\u001b[0m \u001b[0;36m1\u001b[0m\u001b[0;34m:\u001b[0m\u001b[0;34m\u001b[0m\u001b[0m\n",
      "\u001b[0;32m~/ml/lib/python3.5/site-packages/sklearn/neural_network/multilayer_perceptron.py\u001b[0m in \u001b[0;36m_predict\u001b[0;34m(self, X)\u001b[0m\n\u001b[1;32m    674\u001b[0m                                          layer_units[i + 1])))\n\u001b[1;32m    675\u001b[0m         \u001b[0;31m# forward propagate\u001b[0m\u001b[0;34m\u001b[0m\u001b[0;34m\u001b[0m\u001b[0m\n\u001b[0;32m--> 676\u001b[0;31m         \u001b[0mself\u001b[0m\u001b[0;34m.\u001b[0m\u001b[0m_forward_pass\u001b[0m\u001b[0;34m(\u001b[0m\u001b[0mactivations\u001b[0m\u001b[0;34m)\u001b[0m\u001b[0;34m\u001b[0m\u001b[0m\n\u001b[0m\u001b[1;32m    677\u001b[0m         \u001b[0my_pred\u001b[0m \u001b[0;34m=\u001b[0m \u001b[0mactivations\u001b[0m\u001b[0;34m[\u001b[0m\u001b[0;34m-\u001b[0m\u001b[0;36m1\u001b[0m\u001b[0;34m]\u001b[0m\u001b[0;34m\u001b[0m\u001b[0m\n\u001b[1;32m    678\u001b[0m \u001b[0;34m\u001b[0m\u001b[0m\n",
      "\u001b[0;32m~/ml/lib/python3.5/site-packages/sklearn/neural_network/multilayer_perceptron.py\u001b[0m in \u001b[0;36m_forward_pass\u001b[0;34m(self, activations)\u001b[0m\n\u001b[1;32m    100\u001b[0m         \u001b[0;32mfor\u001b[0m \u001b[0mi\u001b[0m \u001b[0;32min\u001b[0m \u001b[0mrange\u001b[0m\u001b[0;34m(\u001b[0m\u001b[0mself\u001b[0m\u001b[0;34m.\u001b[0m\u001b[0mn_layers_\u001b[0m \u001b[0;34m-\u001b[0m \u001b[0;36m1\u001b[0m\u001b[0;34m)\u001b[0m\u001b[0;34m:\u001b[0m\u001b[0;34m\u001b[0m\u001b[0m\n\u001b[1;32m    101\u001b[0m             activations[i + 1] = safe_sparse_dot(activations[i],\n\u001b[0;32m--> 102\u001b[0;31m                                                  self.coefs_[i])\n\u001b[0m\u001b[1;32m    103\u001b[0m             \u001b[0mactivations\u001b[0m\u001b[0;34m[\u001b[0m\u001b[0mi\u001b[0m \u001b[0;34m+\u001b[0m \u001b[0;36m1\u001b[0m\u001b[0;34m]\u001b[0m \u001b[0;34m+=\u001b[0m \u001b[0mself\u001b[0m\u001b[0;34m.\u001b[0m\u001b[0mintercepts_\u001b[0m\u001b[0;34m[\u001b[0m\u001b[0mi\u001b[0m\u001b[0;34m]\u001b[0m\u001b[0;34m\u001b[0m\u001b[0m\n\u001b[1;32m    104\u001b[0m \u001b[0;34m\u001b[0m\u001b[0m\n",
      "\u001b[0;32m~/ml/lib/python3.5/site-packages/sklearn/utils/extmath.py\u001b[0m in \u001b[0;36msafe_sparse_dot\u001b[0;34m(a, b, dense_output)\u001b[0m\n\u001b[1;32m    171\u001b[0m         \u001b[0;32mreturn\u001b[0m \u001b[0mret\u001b[0m\u001b[0;34m\u001b[0m\u001b[0m\n\u001b[1;32m    172\u001b[0m     \u001b[0;32melse\u001b[0m\u001b[0;34m:\u001b[0m\u001b[0;34m\u001b[0m\u001b[0m\n\u001b[0;32m--> 173\u001b[0;31m         \u001b[0;32mreturn\u001b[0m \u001b[0mnp\u001b[0m\u001b[0;34m.\u001b[0m\u001b[0mdot\u001b[0m\u001b[0;34m(\u001b[0m\u001b[0ma\u001b[0m\u001b[0;34m,\u001b[0m \u001b[0mb\u001b[0m\u001b[0;34m)\u001b[0m\u001b[0;34m\u001b[0m\u001b[0m\n\u001b[0m\u001b[1;32m    174\u001b[0m \u001b[0;34m\u001b[0m\u001b[0m\n\u001b[1;32m    175\u001b[0m \u001b[0;34m\u001b[0m\u001b[0m\n",
      "\u001b[0;31mValueError\u001b[0m: shapes (1,3920) and (784,150) not aligned: 3920 (dim 1) != 784 (dim 0)"
     ]
    }
   ],
   "source": [
    "import pickle\n",
    "count=0\n",
    "clf = pickle.load(open('model1.sav', 'rb'))\n",
    "for image in im:\n",
    "    for l in range(28):\n",
    "        for j in range(28):\n",
    "            t[count].append(int(image[l][j]/255))\n",
    "    predicted = clf.predict(t)\n",
    "    print(predicted)\n",
    "    count+=1"
   ]
  },
  {
   "cell_type": "code",
   "execution_count": 12,
   "metadata": {},
   "outputs": [
    {
     "name": "stdout",
     "output_type": "stream",
     "text": [
      "1.5\n",
      "2.0\n",
      "0.0\n",
      "15.5\n",
      "17.5\n",
      "249.0\n",
      "17.0\n",
      "2629.5\n",
      "1462.5\n",
      "7.0\n",
      "364.5\n",
      "6076.5\n",
      "2763.5\n",
      "2078.5\n",
      "511.0\n",
      "0.0\n",
      "6.5\n",
      "0.0\n",
      "0.0\n"
     ]
    }
   ],
   "source": [
    "for cnt in contours:\n",
    "    print(cv2.contourArea(cnt))"
   ]
  },
  {
   "cell_type": "code",
   "execution_count": null,
   "metadata": {},
   "outputs": [],
   "source": []
  }
 ],
 "metadata": {
  "kernelspec": {
   "display_name": "Python 3",
   "language": "python",
   "name": "python3"
  },
  "language_info": {
   "codemirror_mode": {
    "name": "ipython",
    "version": 3
   },
   "file_extension": ".py",
   "mimetype": "text/x-python",
   "name": "python",
   "nbconvert_exporter": "python",
   "pygments_lexer": "ipython3",
   "version": "3.5.2"
  }
 },
 "nbformat": 4,
 "nbformat_minor": 2
}
