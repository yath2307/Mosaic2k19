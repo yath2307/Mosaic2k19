{
 "cells": [
  {
   "cell_type": "code",
   "execution_count": 19,
   "metadata": {},
   "outputs": [
    {
     "name": "stderr",
     "output_type": "stream",
     "text": [
      "/home/youngdumb/ml/lib/python3.5/site-packages/sklearn/base.py:251: UserWarning: Trying to unpickle estimator LabelBinarizer from version 0.19.1 when using version 0.20.2. This might lead to breaking code or invalid results. Use at your own risk.\n",
      "  UserWarning)\n",
      "/home/youngdumb/ml/lib/python3.5/site-packages/sklearn/base.py:251: UserWarning: Trying to unpickle estimator MLPClassifier from version 0.19.1 when using version 0.20.2. This might lead to breaking code or invalid results. Use at your own risk.\n",
      "  UserWarning)\n"
     ]
    },
    {
     "name": "stdout",
     "output_type": "stream",
     "text": [
      "[13]\n",
      "[13]\n",
      "[1]\n"
     ]
    }
   ],
   "source": [
    "import cv2\n",
    "import numpy as np\n",
    "t=[[]]\n",
    "blurValue=7\n",
    "threshold=10\n",
    "count=0\n",
    "x=1000\n",
    "y=1000\n",
    "x1=[]\n",
    "x2=[]\n",
    "y1=[]\n",
    "y2=[]\n",
    "im=[]\n",
    "l=[]\n",
    "prediction=[]\n",
    "import pickle\n",
    "clf = pickle.load(open('model2.sav', 'rb'))\n",
    "camera = cv2.VideoCapture(1)\n",
    "while True:\n",
    "    ret, image = camera.read()\n",
    "    cv2.imshow('original', image)\n",
    "    k = cv2.waitKey(1)\n",
    "    if k == ord('c'):\n",
    "        camera.release()\n",
    "        cv2.destroyAllWindows()\n",
    "        #image = cv2.resize(image, (28,28), interpolation = cv2.INTER_AREA)\n",
    "        gray = cv2.cvtColor(image, cv2.COLOR_BGR2GRAY)\n",
    "        blur = cv2.GaussianBlur(gray, (blurValue, blurValue), 0)\n",
    "        #ret, thresh = cv2.threshold(blur, threshold, 255, cv2.THRESH_BINARY_INV)\n",
    "        #kernel = np.ones((3,3),np.uint8)\n",
    "        thresh = cv2.adaptiveThreshold(blur, 255, cv2.ADAPTIVE_THRESH_MEAN_C, cv2.THRESH_BINARY_INV, blockSize=25, C=11)\n",
    "        #opening = cv2.morphologyEx(thresh, cv2.MORPH_OPEN, kernel)\n",
    "        #thresh = cv2.morphologyEx(opening, cv2.MORPH_CLOSE, kernel)\n",
    "        im2, contours, hierarchy = cv2.findContours(thresh, cv2.RETR_TREE, cv2.CHAIN_APPROX_SIMPLE)\n",
    "        for cnt in contours:\n",
    "            l.append(cv2.contourArea(cnt))\n",
    "        l.sort(reverse=True)\n",
    "        for cnt in contours:\n",
    "            if cv2.contourArea(cnt)<(l[0]/80):\n",
    "                q,y,w,h = cv2.boundingRect(cnt)\n",
    "                for i in range(y,y+h):\n",
    "                    for j in range(q,q+w):\n",
    "                        thresh[i][j]=0\n",
    "        for i in range(thresh.shape[1]):\n",
    "            old=count\n",
    "            for j in range(thresh.shape[0]):\n",
    "                if thresh[j][i]==255:\n",
    "                    count+=1\n",
    "            if count>old:\n",
    "                x=min(x,i)\n",
    "            if count>0 and old==count:\n",
    "                x2.append(i)\n",
    "                x1.append(x)\n",
    "                x=1000\n",
    "                count=0\n",
    "        if old!=count:\n",
    "            x2.append(thresh.shape[1])\n",
    "            x1.append(x)\n",
    "        count=0\n",
    "        for z in range(len(x1)):\n",
    "            for i in range(thresh.shape[0]):\n",
    "                old=count\n",
    "                for j in range(x1[z],x2[z]):\n",
    "                    if thresh[i][j]==255:\n",
    "                        count+=1\n",
    "                if count>old:\n",
    "                    y=min(y,i)\n",
    "                if count>0 and old==count:\n",
    "                    y2.append(i)\n",
    "                    y1.append(y)\n",
    "                    y=1000\n",
    "                    count=0\n",
    "            if old!=count:\n",
    "                y2.append(thresh.shape[0])\n",
    "                y1.append(y)\n",
    "        for i in range(len(x1)):\n",
    "            imcrop = thresh[y1[i]:y2[i], x1[i]:x2[i]]\n",
    "            a=45-y2[i]+y1[i]\n",
    "            b=45-x2[i]+x1[i]\n",
    "            a=max(max(a,0),(x2[i]-x1[i])-(y2[i]-y1[i]))\n",
    "            b=max(max(b,0),(y2[i]-y1[i])-(x2[i]-x1[i]))\n",
    "            constan = cv2.copyMakeBorder(imcrop,int(a/2),a-int(a/2),int(b/2),b-int(b/2),cv2.BORDER_CONSTANT)\n",
    "            imag = cv2.resize(constan, (45,45), interpolation = cv2.INTER_AREA)\n",
    "            ret, thr = cv2.threshold(imag, threshold, 255, cv2.THRESH_BINARY)\n",
    "            #thr = cv2.adaptiveThreshold(imag, 255, cv2.ADAPTIVE_THRESH_MEAN_C, cv2.THRESH_BINARY, blockSize=5, C=5)\n",
    "            kernel = np.ones((2,2), np.uint8)\n",
    "            thr = cv2.dilate(thr, kernel, iterations=1)\n",
    "            for l in range(45):\n",
    "                for j in range(45):\n",
    "                    t[0].append(int(thr[l][j]/255))\n",
    "            predicted = clf.predict(t)\n",
    "            prediction.append(predicted[0])\n",
    "            print(predicted)\n",
    "            t=[[]]\n",
    "        break\n",
    "    elif k == 27:  # press ESC to exit\n",
    "        break\n",
    "cv2.destroyAllWindows()"
   ]
  },
  {
   "cell_type": "code",
   "execution_count": null,
   "metadata": {},
   "outputs": [],
   "source": [
    "j=[]\n",
    "d=[]\n",
    "i=0\n",
    "s=''\n",
    "while i < len(prediction):\n",
    "    c=0\n",
    "    while i<len(prediction) and prediction[i]<=9:\n",
    "        c=c*10+prediction[i]\n",
    "        i+=1\n",
    "    d.append(c)\n",
    "    s+=str(c)\n",
    "    if i<len(prediction):\n",
    "        j.append(prediction[i])\n",
    "        if prediction[i]==10:\n",
    "            s+=' / '\n",
    "        if prediction[i]==11:\n",
    "            s+=' * '\n",
    "        if prediction[i]==12:\n",
    "            s+=' + '\n",
    "        if prediction[i]==13:\n",
    "            s+=' - '\n",
    "    i+=1\n",
    "\n",
    "ans = d[0]\n",
    "for i in range(0,len(j)):\n",
    "    if j[i]==10:\n",
    "        ans = ans/d[i+1]\n",
    "    if j[i]==11:\n",
    "        ans = ans*d[i+1]\n",
    "    if j[i]==12:\n",
    "        ans = ans+d[i+1]\n",
    "    if j[i]==13:\n",
    "        ans = ans-d[i+1]\n",
    "print(ans)\n",
    "s+=' = '+str(ans)    \n",
    "    \n",
    "font = cv2.FONT_HERSHEY_SIMPLEX\n",
    "cv2.putText(image,s,(30,450), font, 2,(255,255,255),2,cv2.LINE_AA)\n",
    "\n",
    "cv2.imshow('original', image)\n",
    "cv2.waitKey(0)\n",
    "cv2.destroyAllWindows()"
   ]
  },
  {
   "cell_type": "code",
   "execution_count": 23,
   "metadata": {},
   "outputs": [],
   "source": [
    "cv2.imshow('original', thresh)\n",
    "cv2.waitKey(0)\n",
    "cv2.destroyAllWindows()"
   ]
  },
  {
   "cell_type": "code",
   "execution_count": 24,
   "metadata": {},
   "outputs": [
    {
     "name": "stdout",
     "output_type": "stream",
     "text": [
      "[38, 210, 462] [149, 395, 584] [58, 155, 191, 227, 104] [303, 177, 209, 249, 257]\n"
     ]
    }
   ],
   "source": [
    "print(x1,x2,y1,y2)"
   ]
  },
  {
   "cell_type": "code",
   "execution_count": null,
   "metadata": {},
   "outputs": [],
   "source": []
  }
 ],
 "metadata": {
  "kernelspec": {
   "display_name": "Python 3",
   "language": "python",
   "name": "python3"
  },
  "language_info": {
   "codemirror_mode": {
    "name": "ipython",
    "version": 3
   },
   "file_extension": ".py",
   "mimetype": "text/x-python",
   "name": "python",
   "nbconvert_exporter": "python",
   "pygments_lexer": "ipython3",
   "version": "3.5.2"
  }
 },
 "nbformat": 4,
 "nbformat_minor": 2
}
