{
 "cells": [
  {
   "cell_type": "code",
   "execution_count": 4,
   "metadata": {},
   "outputs": [],
   "source": [
    "from scipy import ndimage, misc\n",
    "import numpy as np\n",
    "import os\n",
    "import cv2\n",
    "import imutils\n",
    "import random\n",
    "l=[]\n",
    "for i in range(2028):\n",
    "    l.append([])\n",
    "t=[]\n",
    "for i in range(2025):\n",
    "    t.append([])\n",
    "y_train=[]\n",
    "y_test=[]\n",
    "blurValue=5\n",
    "threshold=250"
   ]
  },
  {
   "cell_type": "code",
   "execution_count": 5,
   "metadata": {},
   "outputs": [
    {
     "name": "stderr",
     "output_type": "stream",
     "text": [
      "/home/youngdumb/ml/lib/python3.5/site-packages/ipykernel_launcher.py:16: DeprecationWarning: `imsave` is deprecated!\n",
      "`imsave` is deprecated in SciPy 1.0.0, and will be removed in 1.2.0.\n",
      "Use ``imageio.imwrite`` instead.\n",
      "  app.launch_new_instance()\n"
     ]
    }
   ],
   "source": [
    "path = \"dataset/gt/\"\n",
    "c=0\n",
    "for image_path in os.listdir(path):\n",
    "    input_path = os.path.join(path, image_path)\n",
    "    image = cv2.imread(input_path)\n",
    "    angle = 90\n",
    "    image = imutils.rotate(image, angle)\n",
    "#     image = cv2.resize(image, (28,28), interpolation = cv2.INTER_AREA)\n",
    "    gray = cv2.cvtColor(image, cv2.COLOR_BGR2GRAY)\n",
    "    blur = cv2.GaussianBlur(gray, (blurValue, blurValue), 0)\n",
    "    ret, thresh = cv2.threshold(blur, threshold, 255, cv2.THRESH_BINARY_INV)\n",
    "    \n",
    "    if c<2000:\n",
    "        outPath = \"dataset/grt/\"\n",
    "        fullpath = os.path.join(outPath, image_path)\n",
    "        misc.imsave(fullpath, thresh)\n",
    "#     elif c<3500:\n",
    "#         outPath = \"mvalid/divs/\"\n",
    "#         fullpath = os.path.join(outPath, image_path)\n",
    "#         misc.imsave(fullpath, thresh)\n",
    "    else:\n",
    "        break\n",
    "    c+=1\n",
    "        "
   ]
  },
  {
   "cell_type": "code",
   "execution_count": null,
   "metadata": {},
   "outputs": [],
   "source": []
  }
 ],
 "metadata": {
  "kernelspec": {
   "display_name": "Python 3",
   "language": "python",
   "name": "python3"
  },
  "language_info": {
   "codemirror_mode": {
    "name": "ipython",
    "version": 3
   },
   "file_extension": ".py",
   "mimetype": "text/x-python",
   "name": "python",
   "nbconvert_exporter": "python",
   "pygments_lexer": "ipython3",
   "version": "3.5.2"
  }
 },
 "nbformat": 4,
 "nbformat_minor": 2
}
